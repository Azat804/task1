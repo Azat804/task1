{
 "cells": [
  {
   "cell_type": "markdown",
   "metadata": {},
   "source": [
    "## Источник: Машинное обучение, Материаы ФКН ВШЭ (2018)\n",
    "\n",
    "## Практическое задание 1\n",
    "\n",
    "### Общая информация\n",
    "\n",
    "Мягкий дедлайн: 14.03.2022 \n",
    "\n",
    "Жесткий дедлайн:  "
   ]
  },
  {
   "cell_type": "markdown",
   "metadata": {},
   "source": [
    "### О задании\n",
    "\n",
    "Задание состоит из двух разделов, посвященных работе с табличными данными с помощью библиотеки pandas и визуализации с помощью matplotlib. В каждом разделе вам предлагается выполнить несколько заданий. Баллы даются за выполнение отдельных пунктов. Задачи в рамках одного раздела рекомендуется решать в том порядке, в котором они даны в задании.\n",
    "\n",
    "Задание направлено на освоение jupyter notebook (будет использоваться в дальнейших заданиях), библиотекам pandas и matplotlib.\n",
    "\n",
    "### Оценивание и штрафы\n",
    "Каждая из задач имеет определенную «стоимость» (указана в скобках около задачи). Максимально допустимая оценка за работу — 10 баллов.\n",
    "\n",
    "Сдавать задание после указанного срока сдачи нельзя. При выставлении неполного балла за задание в связи с наличием ошибок на усмотрение проверяющего предусмотрена возможность исправить работу на указанных в ответном письме условиях.\n",
    "\n",
    "Задание выполняется самостоятельно. «Похожие» решения считаются плагиатом и все задействованные студенты (в том числе те, у кого списали) не могут получить за него больше 0 баллов (подробнее о плагиате см. на странице курса). Если вы нашли решение какого-то из заданий (или его часть) в открытом источнике, необходимо указать ссылку на этот источник в отдельном блоке в конце вашей работы (скорее всего вы будете не единственным, кто это нашел, поэтому чтобы исключить подозрение в плагиате, необходима ссылка на источник).\n",
    "\n",
    "### Формат сдачи\n"
   ]
  },
  {
   "cell_type": "markdown",
   "metadata": {},
   "source": [
    "## 0. Введение"
   ]
  },
  {
   "cell_type": "markdown",
   "metadata": {
    "collapsed": true
   },
   "source": [
    "Сейчас мы находимся в jupyter-ноутбуке (или ipython-ноутбуке). Это удобная среда для написания кода, проведения экспериментов, изучения данных, построения визуализаций и других нужд, не связанных с написаем production-кода. \n",
    "\n",
    "Ноутбук состоит из ячеек, каждая из которых может быть либо ячейкой с кодом, либо ячейкой с текстом размеченным и неразмеченным. Текст поддерживает markdown-разметку и формулы в Latex.\n",
    "\n",
    "Для работы с содержимым ячейки используется *режим редактирования* (*Edit mode*, включается нажатием клавиши **Enter** после выбора ячейки), а для навигации между ячейками искользуется *командный режим* (*Command mode*, включается нажатием клавиши **Esc**). Тип ячейки можно задать в командном режиме либо с помощью горячих клавиш (**y** to code, **m** to markdown, **r** to edit raw text), либо в меню *Cell -> Cell type*. \n",
    "\n",
    "После заполнения ячейки нужно нажать *Shift + Enter*, эта команда обработает содержимое ячейки: проинтерпретирует код или сверстает размеченный текст."
   ]
  },
  {
   "cell_type": "code",
   "execution_count": 1,
   "metadata": {},
   "outputs": [
    {
     "data": {
      "text/plain": [
       "4"
      ]
     },
     "execution_count": 1,
     "metadata": {},
     "output_type": "execute_result"
    }
   ],
   "source": [
    "# ячейка с кодом, при выполнении которой появится output\n",
    "2 + 2"
   ]
  },
  {
   "cell_type": "markdown",
   "metadata": {},
   "source": [
    "А это ___ячейка с текстом___."
   ]
  },
  {
   "cell_type": "raw",
   "metadata": {},
   "source": [
    "Ячейка с неразмеченыным текстом."
   ]
  },
  {
   "cell_type": "markdown",
   "metadata": {},
   "source": [
    "Попробуйте создать свои ячейки, написать какой-нибудь код и текст какой-нибудь формулой."
   ]
  },
  {
   "cell_type": "code",
   "execution_count": 2,
   "metadata": {},
   "outputs": [],
   "source": [
    "# your code"
   ]
  },
  {
   "cell_type": "markdown",
   "metadata": {},
   "source": [
    "[Здесь](https://athena.brynmawr.edu/jupyter/hub/dblank/public/Jupyter%20Notebook%20Users%20Manual.ipynb) находится <s>не</s>большая заметка о используемом языке разметки Markdown. Он позволяет:\n",
    "\n",
    "0. Составлять упорядоченные списки\n",
    "1. #Делать \n",
    "##заголовки \n",
    "###разного уровня\n",
    "3. Выделять *текст* <s>при</s> **необходимости**\n",
    "4. Добавлять [ссылки](http://imgs.xkcd.com/comics/the_universal_label.png)\n",
    "\n",
    "\n",
    "* Составлять неупорядоченные списки\n",
    "\n",
    "Делать вставки с помощью LaTex:\n",
    "    \n",
    "$\n",
    "\\left\\{\n",
    "\\begin{array}{ll}\n",
    "x = 16 \\sin^3 (t) \\\\ \n",
    "y = 13 \\cos (t) - 5 \\cos (2t) - 2 \\cos (3t) - \\cos (4t) \\\\\n",
    "t \\in [0, 2 \\pi]\n",
    "\\end{array}\n",
    "\\right.$"
   ]
  },
  {
   "cell_type": "markdown",
   "metadata": {},
   "source": [
    "## 1. Табличные данные и Pandas"
   ]
  },
  {
   "cell_type": "markdown",
   "metadata": {},
   "source": [
    "Pandas — удобная библиотека для работы с табличными данными в Python, если данных не слишком много и они помещаются в оперативную память вашего компьютера. Несмотря на неэффективность реализации и некоторые проблемы, библиотека стала стандартом в анализе данных. С этой библиотекой мы сейчас и познакомимся.\n",
    "\n",
    "Основной объект в pandas это DataFrame, представляющий собой таблицу с именованными колонками различных типов, индексом (может быть многоуровневым). DataFrame можно создавать, считывая таблицу из файла или задавая вручную из других объектов.\n",
    "\n",
    "В этой части потребуется выполнить несколько небольших заданий. Можно пойти двумя путями: сначала изучить материалы, а потом приступить к заданиям, или же разбираться \"по ходу\". Выбирайте сами.\n",
    "\n",
    "Материалы:\n",
    "1. [Pandas за 10 минут из официального руководства](http://pandas.pydata.org/pandas-docs/stable/10min.html)\n",
    "2. [Документация](http://pandas.pydata.org/pandas-docs/stable/index.html) (стоит обращаться, если не понятно, как вызывать конкретный метод)\n",
    "3. [Примеры использования функционала](http://nbviewer.jupyter.org/github/justmarkham/pandas-videos/blob/master/pandas.ipynb)\n",
    "\n",
    "Многие из заданий можно выполнить несколькими способами. Не существуют единственно верного, но попробуйте максимально задействовать арсенал pandas и ориентируйтесь на простоту и понятность вашего кода. Мы не будем подсказывать, что нужно использовать для решения конкретной задачи, попробуйте находить необходимый функционал сами (название метода чаще всего очевидно). В помощь вам документация, поиск и stackoverflow."
   ]
  },
  {
   "cell_type": "code",
   "execution_count": 1,
   "metadata": {},
   "outputs": [
    {
     "name": "stdout",
     "output_type": "stream",
     "text": [
      "Populating the interactive namespace from numpy and matplotlib\n"
     ]
    }
   ],
   "source": [
    "%pylab inline  \n",
    "import pandas as pd"
   ]
  },
  {
   "cell_type": "code",
   "execution_count": 2,
   "metadata": {},
   "outputs": [],
   "source": [
    "#df=pd.read_csv(\"../data/task1_data.csv\")\n",
    "df=pd.read_csv('C:/Users/user/Desktop/PhytonProjects/task1_data.csv')\n"
   ]
  },
  {
   "cell_type": "code",
   "execution_count": 4,
   "metadata": {},
   "outputs": [
    {
     "data": {
      "text/html": [
       "<div>\n",
       "<style scoped>\n",
       "    .dataframe tbody tr th:only-of-type {\n",
       "        vertical-align: middle;\n",
       "    }\n",
       "\n",
       "    .dataframe tbody tr th {\n",
       "        vertical-align: top;\n",
       "    }\n",
       "\n",
       "    .dataframe thead th {\n",
       "        text-align: right;\n",
       "    }\n",
       "</style>\n",
       "<table border=\"1\" class=\"dataframe\">\n",
       "  <thead>\n",
       "    <tr style=\"text-align: right;\">\n",
       "      <th></th>\n",
       "      <th>order_id</th>\n",
       "      <th>quantity</th>\n",
       "      <th>item_name</th>\n",
       "      <th>choice_description</th>\n",
       "      <th>item_price</th>\n",
       "    </tr>\n",
       "  </thead>\n",
       "  <tbody>\n",
       "    <tr>\n",
       "      <th>0</th>\n",
       "      <td>1</td>\n",
       "      <td>1</td>\n",
       "      <td>Chips and Fresh Tomato Salsa</td>\n",
       "      <td>NaN</td>\n",
       "      <td>$2.39</td>\n",
       "    </tr>\n",
       "    <tr>\n",
       "      <th>1</th>\n",
       "      <td>1</td>\n",
       "      <td>1</td>\n",
       "      <td>Izze</td>\n",
       "      <td>[Clementine]</td>\n",
       "      <td>$3.39</td>\n",
       "    </tr>\n",
       "    <tr>\n",
       "      <th>2</th>\n",
       "      <td>1</td>\n",
       "      <td>1</td>\n",
       "      <td>Nantucket Nectar</td>\n",
       "      <td>[Apple]</td>\n",
       "      <td>$3.39</td>\n",
       "    </tr>\n",
       "    <tr>\n",
       "      <th>3</th>\n",
       "      <td>1</td>\n",
       "      <td>1</td>\n",
       "      <td>Chips and Tomatillo-Green Chili Salsa</td>\n",
       "      <td>NaN</td>\n",
       "      <td>$2.39</td>\n",
       "    </tr>\n",
       "    <tr>\n",
       "      <th>4</th>\n",
       "      <td>2</td>\n",
       "      <td>2</td>\n",
       "      <td>Chicken Bowl</td>\n",
       "      <td>[Tomatillo-Red Chili Salsa (Hot), [Black Beans...</td>\n",
       "      <td>$16.98</td>\n",
       "    </tr>\n",
       "  </tbody>\n",
       "</table>\n",
       "</div>"
      ],
      "text/plain": [
       "   order_id  quantity                              item_name  \\\n",
       "0         1         1           Chips and Fresh Tomato Salsa   \n",
       "1         1         1                                   Izze   \n",
       "2         1         1                       Nantucket Nectar   \n",
       "3         1         1  Chips and Tomatillo-Green Chili Salsa   \n",
       "4         2         2                           Chicken Bowl   \n",
       "\n",
       "                                  choice_description item_price  \n",
       "0                                                NaN     $2.39   \n",
       "1                                       [Clementine]     $3.39   \n",
       "2                                            [Apple]     $3.39   \n",
       "3                                                NaN     $2.39   \n",
       "4  [Tomatillo-Red Chili Salsa (Hot), [Black Beans...    $16.98   "
      ]
     },
     "execution_count": 4,
     "metadata": {},
     "output_type": "execute_result"
    }
   ],
   "source": [
    "df.head(5)"
   ]
  },
  {
   "cell_type": "markdown",
   "metadata": {},
   "source": [
    "Данные можно скачать [отсюда](https://www.dropbox.com/s/5qq94wzmbw4e54r/data.csv?dl=0)."
   ]
  },
  {
   "cell_type": "markdown",
   "metadata": {},
   "source": [
    "#### 1. [0.5 баллов] Откройте файл с таблицей (не забудьте про её формат). Выведите последние 10 строк.\n",
    "\n",
    "Посмотрите на данные и скажите, что они из себя представляют, сколько в таблице строк, какие столбцы?"
   ]
  },
  {
   "cell_type": "code",
   "execution_count": 10,
   "metadata": {},
   "outputs": [
    {
     "name": "stdout",
     "output_type": "stream",
     "text": [
      "      order_id  quantity            item_name  \\\n",
      "4612      1831         1        Carnitas Bowl   \n",
      "4613      1831         1                Chips   \n",
      "4614      1831         1        Bottled Water   \n",
      "4615      1832         1   Chicken Soft Tacos   \n",
      "4616      1832         1  Chips and Guacamole   \n",
      "4617      1833         1        Steak Burrito   \n",
      "4618      1833         1        Steak Burrito   \n",
      "4619      1834         1   Chicken Salad Bowl   \n",
      "4620      1834         1   Chicken Salad Bowl   \n",
      "4621      1834         1   Chicken Salad Bowl   \n",
      "\n",
      "                                     choice_description item_price  \n",
      "4612  [Fresh Tomato Salsa, [Fajita Vegetables, Rice,...     $9.25   \n",
      "4613                                                NaN     $2.15   \n",
      "4614                                                NaN     $1.50   \n",
      "4615   [Fresh Tomato Salsa, [Rice, Cheese, Sour Cream]]     $8.75   \n",
      "4616                                                NaN     $4.45   \n",
      "4617  [Fresh Tomato Salsa, [Rice, Black Beans, Sour ...    $11.75   \n",
      "4618  [Fresh Tomato Salsa, [Rice, Sour Cream, Cheese...    $11.75   \n",
      "4619  [Fresh Tomato Salsa, [Fajita Vegetables, Pinto...    $11.25   \n",
      "4620  [Fresh Tomato Salsa, [Fajita Vegetables, Lettu...     $8.75   \n",
      "4621  [Fresh Tomato Salsa, [Fajita Vegetables, Pinto...     $8.75    \n",
      "\n",
      "Столбцы Index(['order_id', 'quantity', 'item_name', 'choice_description',\n",
      "       'item_price'],\n",
      "      dtype='object') \n",
      "\n",
      "Кол-во строк 4622 \n",
      " Кол-во столбцов 5\n"
     ]
    }
   ],
   "source": [
    "# your code\n",
    "print(df.tail(10),'\\n')\n",
    "print('Столбцы', df.columns, '\\n')\n",
    "print('Кол-во строк', df.shape[0], '\\n', 'Кол-во столбцов', df.shape[1])\n"
   ]
  },
  {
   "cell_type": "markdown",
   "metadata": {},
   "source": [
    "#### 2. [0.25 баллов] Ответьте на вопросы:\n",
    "1. Сколько заказов попало в выборку?\n",
    "2. Сколько уникальных категорий товара было куплено? (item_name)"
   ]
  },
  {
   "cell_type": "code",
   "execution_count": 25,
   "metadata": {},
   "outputs": [
    {
     "name": "stdout",
     "output_type": "stream",
     "text": [
      "          order_id     quantity\n",
      "count  4622.000000  4622.000000\n",
      "mean    927.254868     1.075725\n",
      "std     528.890796     0.410186\n",
      "min       1.000000     1.000000\n",
      "25%     477.250000     1.000000\n",
      "50%     926.000000     1.000000\n",
      "75%    1393.000000     1.000000\n",
      "max    1834.000000    15.000000\n",
      "Кол-во заказов 1834.0\n",
      "Chicken Bowl                             726\n",
      "Chicken Burrito                          553\n",
      "Chips and Guacamole                      479\n",
      "Steak Burrito                            368\n",
      "Canned Soft Drink                        301\n",
      "Steak Bowl                               211\n",
      "Chips                                    211\n",
      "Bottled Water                            162\n",
      "Chicken Soft Tacos                       115\n",
      "Chips and Fresh Tomato Salsa             110\n",
      "Chicken Salad Bowl                       110\n",
      "Canned Soda                              104\n",
      "Side of Chips                            101\n",
      "Veggie Burrito                            95\n",
      "Barbacoa Burrito                          91\n",
      "Veggie Bowl                               85\n",
      "Carnitas Bowl                             68\n",
      "Barbacoa Bowl                             66\n",
      "Carnitas Burrito                          59\n",
      "Steak Soft Tacos                          55\n",
      "6 Pack Soft Drink                         54\n",
      "Chips and Tomatillo Red Chili Salsa       48\n",
      "Chicken Crispy Tacos                      47\n",
      "Chips and Tomatillo Green Chili Salsa     43\n",
      "Carnitas Soft Tacos                       40\n",
      "Steak Crispy Tacos                        35\n",
      "Chips and Tomatillo-Green Chili Salsa     31\n",
      "Steak Salad Bowl                          29\n",
      "Nantucket Nectar                          27\n",
      "Barbacoa Soft Tacos                       25\n",
      "Chips and Roasted Chili Corn Salsa        22\n",
      "Izze                                      20\n",
      "Chips and Tomatillo-Red Chili Salsa       20\n",
      "Veggie Salad Bowl                         18\n",
      "Chips and Roasted Chili-Corn Salsa        18\n",
      "Barbacoa Crispy Tacos                     11\n",
      "Barbacoa Salad Bowl                       10\n",
      "Chicken Salad                              9\n",
      "Veggie Soft Tacos                          7\n",
      "Carnitas Crispy Tacos                      7\n",
      "Veggie Salad                               6\n",
      "Carnitas Salad Bowl                        6\n",
      "Burrito                                    6\n",
      "Steak Salad                                4\n",
      "Crispy Tacos                               2\n",
      "Salad                                      2\n",
      "Bowl                                       2\n",
      "Chips and Mild Fresh Tomato Salsa          1\n",
      "Veggie Crispy Tacos                        1\n",
      "Carnitas Salad                             1\n",
      "Name: item_name, dtype: int64\n",
      "Кол-во уникальных категорий товара 3\n"
     ]
    }
   ],
   "source": [
    "# your code\n",
    "print(df.describe())\n",
    "print('Кол-во заказов',df.describe()['order_id'][-1])\n",
    "#print('Кол-во уникальных категорий товара')\n",
    "print(df['item_name'].value_counts())\n",
    "print('Кол-во уникальных категорий товара', sum(df['item_name'].value_counts().apply(lambda i:i==1)))"
   ]
  },
  {
   "cell_type": "markdown",
   "metadata": {},
   "source": [
    "#### 3. [0.25 баллов] Есть ли в данных пропуски? В каких колонках? "
   ]
  },
  {
   "cell_type": "code",
   "execution_count": 51,
   "metadata": {},
   "outputs": [
    {
     "name": "stdout",
     "output_type": "stream",
     "text": [
      "order_id                 0\n",
      "quantity                 0\n",
      "item_name                0\n",
      "choice_description    1246\n",
      "item_price               0\n",
      "dtype: int64\n",
      "Столбцы с пропусками choice_description\n"
     ]
    }
   ],
   "source": [
    "# your code\n",
    "print(df.isnull().sum())\n",
    "print('Столбцы с пропусками', df.columns[df.isnull().sum().apply(lambda j: j!=0)][0])"
   ]
  },
  {
   "cell_type": "markdown",
   "metadata": {},
   "source": [
    "Заполните пропуски пустой строкой для строковых колонок и нулём для числовых."
   ]
  },
  {
   "cell_type": "code",
   "execution_count": 113,
   "metadata": {},
   "outputs": [
    {
     "name": "stdout",
     "output_type": "stream",
     "text": [
      "   order_id  quantity                              item_name  \\\n",
      "0         1         1           Chips and Fresh Tomato Salsa   \n",
      "1         1         1                                   Izze   \n",
      "2         1         1                       Nantucket Nectar   \n",
      "3         1         1  Chips and Tomatillo-Green Chili Salsa   \n",
      "4         2         2                           Chicken Bowl   \n",
      "\n",
      "                                  choice_description item_price  \n",
      "0                                                        $2.39   \n",
      "1                                       [Clementine]     $3.39   \n",
      "2                                            [Apple]     $3.39   \n",
      "3                                                        $2.39   \n",
      "4  [Tomatillo-Red Chili Salsa (Hot), [Black Beans...    $16.98   \n"
     ]
    }
   ],
   "source": [
    "# your code\n",
    "#p1=df.dtypes.apply(lambda k1: k1=='int64')\n",
    "#p2=df.dtypes.apply(lambda k2: k2=='object')\n",
    "#df[df.columns[p1]].fillna(0, inplace=True)\n",
    "#df[df.columns[p2]].fillna('', inplace=True)\n",
    "df['order_id'].fillna(0,inplace=True)\n",
    "df['quantity'].fillna(0,inplace=True)\n",
    "df['item_name'].fillna('',inplace=True)\n",
    "df['choice_description'].fillna('',inplace=True)\n",
    "df['item_price'].fillna('',inplace=True)\n",
    "print(df.head(5))"
   ]
  },
  {
   "cell_type": "markdown",
   "metadata": {},
   "source": [
    "#### 4. [0.5 баллов] Посмотрите внимательнее на колонку с ценой товара. Какого она типа? Создайте новую колонку так, чтобы в ней цена была числом.\n",
    "\n",
    "Для этого попробуйте применить функцию-преобразование к каждой строке вашей таблицы (для этого есть соответствующая функция)."
   ]
  },
  {
   "cell_type": "code",
   "execution_count": 3,
   "metadata": {},
   "outputs": [
    {
     "name": "stdout",
     "output_type": "stream",
     "text": [
      "   order_id  quantity                              item_name  \\\n",
      "0         1         1           Chips and Fresh Tomato Salsa   \n",
      "1         1         1                                   Izze   \n",
      "2         1         1                       Nantucket Nectar   \n",
      "3         1         1  Chips and Tomatillo-Green Chili Salsa   \n",
      "4         2         2                           Chicken Bowl   \n",
      "\n",
      "                                  choice_description item_price  new_column  \n",
      "0                                                NaN     $2.39         2.39  \n",
      "1                                       [Clementine]     $3.39         3.39  \n",
      "2                                            [Apple]     $3.39         3.39  \n",
      "3                                                NaN     $2.39         2.39  \n",
      "4  [Tomatillo-Red Chili Salsa (Hot), [Black Beans...    $16.98        16.98  \n"
     ]
    }
   ],
   "source": [
    "# your code\n",
    "df.insert(loc=len(df.columns), column='new_column', value=df['item_price'].apply(lambda p: float(p[1:])))\n",
    "print(df.head(5))"
   ]
  },
  {
   "cell_type": "markdown",
   "metadata": {},
   "source": [
    "Какая средняя/минимальная/максимальная цена у товара? "
   ]
  },
  {
   "cell_type": "code",
   "execution_count": 46,
   "metadata": {},
   "outputs": [
    {
     "name": "stdout",
     "output_type": "stream",
     "text": [
      "Средняя цена у товара 7.464335785374297\n",
      "Минимальная цена у товара 1.09\n",
      "Максимальная цена у товара 44.25\n"
     ]
    }
   ],
   "source": [
    "# your code\n",
    "print('Средняя цена у товара',df['new_column'].mean())\n",
    "print('Минимальная цена у товара',df['new_column'].min())\n",
    "print('Максимальная цена у товара',df['new_column'].max())\n",
    "#print(df.groupby(['item_name'])['new_column'].max())"
   ]
  },
  {
   "cell_type": "markdown",
   "metadata": {},
   "source": [
    "Удалите старую колонку с ценой."
   ]
  },
  {
   "cell_type": "code",
   "execution_count": 4,
   "metadata": {},
   "outputs": [
    {
     "name": "stdout",
     "output_type": "stream",
     "text": [
      "   order_id  quantity                              item_name  \\\n",
      "0         1         1           Chips and Fresh Tomato Salsa   \n",
      "1         1         1                                   Izze   \n",
      "2         1         1                       Nantucket Nectar   \n",
      "3         1         1  Chips and Tomatillo-Green Chili Salsa   \n",
      "4         2         2                           Chicken Bowl   \n",
      "\n",
      "                                  choice_description  new_column  \n",
      "0                                                NaN        2.39  \n",
      "1                                       [Clementine]        3.39  \n",
      "2                                            [Apple]        3.39  \n",
      "3                                                NaN        2.39  \n",
      "4  [Tomatillo-Red Chili Salsa (Hot), [Black Beans...       16.98  \n"
     ]
    }
   ],
   "source": [
    "# your code\n",
    "df = df.drop(['item_price'], axis=1)\n",
    "print(df.head(5))"
   ]
  },
  {
   "cell_type": "markdown",
   "metadata": {},
   "source": [
    "#### 5. [0.25 баллов] Какие 5 товаров были самыми дешёвыми и самыми дорогими? (по choice_description)\n",
    "\n",
    "Для этого будет удобно избавиться от дубликатов и отсортировать товары. Не забудьте про количество товара."
   ]
  },
  {
   "cell_type": "code",
   "execution_count": 52,
   "metadata": {},
   "outputs": [
    {
     "name": "stdout",
     "output_type": "stream",
     "text": [
      "5 самых дешевых товаров\n",
      "      order_id  quantity          item_name choice_description  new_column  \\\n",
      "126        55         1        Canned Soda        [Coca Cola]        1.09   \n",
      "117        51         1        Canned Soda  [Diet Dr. Pepper]        1.09   \n",
      "34         17         1      Bottled Water                NaN        1.09   \n",
      "28         14         1        Canned Soda       [Dr. Pepper]        1.09   \n",
      "368       159         1  Canned Soft Drink        [Diet Coke]        1.25   \n",
      "\n",
      "     cost  \n",
      "126  1.09  \n",
      "117  1.09  \n",
      "34   1.09  \n",
      "28   1.09  \n",
      "368  1.25  \n",
      "5 самых дорогих товаров\n",
      "       order_id  quantity        item_name  \\\n",
      "1254       511         4  Chicken Burrito   \n",
      "409        178         3     Chicken Bowl   \n",
      "1255       511         3    Steak Burrito   \n",
      "3334      1336         3       Steak Bowl   \n",
      "445        193         3             Bowl   \n",
      "\n",
      "                                     choice_description  new_column    cost  \n",
      "1254  [Fresh Tomato Salsa, [Fajita Vegetables, Rice,...       35.00  140.00  \n",
      "409   [[Fresh Tomato Salsa (Mild), Tomatillo-Green C...       32.94   98.82  \n",
      "1255  [Fresh Tomato Salsa, [Fajita Vegetables, Rice,...       27.75   83.25  \n",
      "3334  [Tomatillo Green Chili (Medium), [Rice, Black ...       26.07   78.21  \n",
      "445   [Braised Carnitas, Pinto Beans, [Sour Cream, C...       22.20   66.60  \n"
     ]
    }
   ],
   "source": [
    "# your code\n",
    "df_new=df.drop_duplicates(subset=['item_name', 'choice_description'])\n",
    "df_new.insert(loc=len(df.columns), column='cost', value=df['quantity']*df['new_column'])\n",
    "print('5 самых дешевых товаров\\n',df_new.sort_values(by='cost', ascending=True).head(5))\n",
    "print('5 самых дорогих товаров\\n',df_new.sort_values(by='cost', ascending=False).head(5))\n",
    "df_new = df_new.drop(['cost'], axis=1)"
   ]
  },
  {
   "cell_type": "markdown",
   "metadata": {},
   "source": [
    "#### 6. [0.5 баллов] Сколько раз клиенты покупали больше 1 Chicken Bowl (item_name)?"
   ]
  },
  {
   "cell_type": "code",
   "execution_count": 58,
   "metadata": {},
   "outputs": [
    {
     "name": "stdout",
     "output_type": "stream",
     "text": [
      "33\n"
     ]
    }
   ],
   "source": [
    "# your code\n",
    "print(df[(df['item_name'] == 'Chicken Bowl') & (df['quantity'] >1)].shape[0])"
   ]
  },
  {
   "cell_type": "markdown",
   "metadata": {},
   "source": [
    "#### 7. [0.5 баллов] Какой средний чек у заказа? Сколько в среднем товаров покупают?\n",
    "\n",
    "Если необходимо провести вычисления в терминах заказов, то будет удобно сгруппировать строки по заказам и посчитать необходимые статистики."
   ]
  },
  {
   "cell_type": "code",
   "execution_count": 64,
   "metadata": {},
   "outputs": [
    {
     "name": "stdout",
     "output_type": "stream",
     "text": [
      "Средний чек у заказа\n",
      " order_id\n",
      "1        2.890000\n",
      "2       33.960000\n",
      "3        6.335000\n",
      "4       10.500000\n",
      "5        6.850000\n",
      "          ...    \n",
      "1830    11.500000\n",
      "1831     4.300000\n",
      "1832     6.600000\n",
      "1833    11.750000\n",
      "1834     9.583333\n",
      "Name: cost, Length: 1834, dtype: float64\n",
      "Среднее кол-во купленных товаров\n",
      " order_id\n",
      "1       1.0\n",
      "2       2.0\n",
      "3       1.0\n",
      "4       1.0\n",
      "5       1.0\n",
      "       ... \n",
      "1830    1.0\n",
      "1831    1.0\n",
      "1832    1.0\n",
      "1833    1.0\n",
      "1834    1.0\n",
      "Name: quantity, Length: 1834, dtype: float64\n"
     ]
    }
   ],
   "source": [
    "# your code\n",
    "df.insert(loc=len(df.columns), column='cost', value=df['quantity']*df['new_column'])\n",
    "print('Средний чек у заказа\\n', df.groupby(['order_id'])['cost'].mean())\n",
    "print('Среднее кол-во купленных товаров\\n', df.groupby(['order_id'])['quantity'].mean())\n",
    "df=df.drop(['cost'], axis=1)"
   ]
  },
  {
   "cell_type": "markdown",
   "metadata": {},
   "source": [
    "#### 8. [0.25 баллов] Сколько заказов содержали ровно 1 товар?"
   ]
  },
  {
   "cell_type": "code",
   "execution_count": 76,
   "metadata": {},
   "outputs": [
    {
     "name": "stdout",
     "output_type": "stream",
     "text": [
      "56\n"
     ]
    }
   ],
   "source": [
    "# your code\n",
    "df.groupby(['order_id'])['quantity'].mean()\n",
    "print(df.groupby(['order_id'])['quantity'].sum().apply(lambda a:a==1).sum())"
   ]
  },
  {
   "cell_type": "markdown",
   "metadata": {},
   "source": [
    "#### 9. [0.25 баллов] Какая самая популярная категория товара? "
   ]
  },
  {
   "cell_type": "code",
   "execution_count": 131,
   "metadata": {},
   "outputs": [
    {
     "name": "stdout",
     "output_type": "stream",
     "text": [
      "Самая популярная категория товара Chicken Bowl \n",
      "item_name\n",
      "6 Pack Soft Drink                         55\n",
      "Barbacoa Bowl                             66\n",
      "Barbacoa Burrito                          91\n",
      "Barbacoa Crispy Tacos                     12\n",
      "Barbacoa Salad Bowl                       10\n",
      "Barbacoa Soft Tacos                       25\n",
      "Bottled Water                            211\n",
      "Bowl                                       4\n",
      "Burrito                                    6\n",
      "Canned Soda                              126\n",
      "Canned Soft Drink                        351\n",
      "Carnitas Bowl                             71\n",
      "Carnitas Burrito                          60\n",
      "Carnitas Crispy Tacos                      8\n",
      "Carnitas Salad                             1\n",
      "Carnitas Salad Bowl                        6\n",
      "Carnitas Soft Tacos                       40\n",
      "Chicken Bowl                             761\n",
      "Chicken Burrito                          591\n",
      "Chicken Crispy Tacos                      50\n",
      "Chicken Salad                              9\n",
      "Chicken Salad Bowl                       123\n",
      "Chicken Soft Tacos                       120\n",
      "Chips                                    230\n",
      "Chips and Fresh Tomato Salsa             130\n",
      "Chips and Guacamole                      506\n",
      "Chips and Mild Fresh Tomato Salsa          1\n",
      "Chips and Roasted Chili Corn Salsa        23\n",
      "Chips and Roasted Chili-Corn Salsa        18\n",
      "Chips and Tomatillo Green Chili Salsa     45\n",
      "Chips and Tomatillo Red Chili Salsa       50\n",
      "Chips and Tomatillo-Green Chili Salsa     33\n",
      "Chips and Tomatillo-Red Chili Salsa       25\n",
      "Crispy Tacos                               2\n",
      "Izze                                      20\n",
      "Nantucket Nectar                          29\n",
      "Salad                                      2\n",
      "Side of Chips                            110\n",
      "Steak Bowl                               221\n",
      "Steak Burrito                            386\n",
      "Steak Crispy Tacos                        36\n",
      "Steak Salad                                4\n",
      "Steak Salad Bowl                          31\n",
      "Steak Soft Tacos                          56\n",
      "Veggie Bowl                               87\n",
      "Veggie Burrito                            97\n",
      "Veggie Crispy Tacos                        1\n",
      "Veggie Salad                               6\n",
      "Veggie Salad Bowl                         18\n",
      "Veggie Soft Tacos                          8\n",
      "Name: quantity, dtype: int64\n"
     ]
    }
   ],
   "source": [
    "# your code\n",
    "l=df.groupby(['item_name'])['quantity'].sum()\n",
    "print('Самая популярная категория товара Chicken Bowl ')\n",
    "print(l)"
   ]
  },
  {
   "cell_type": "markdown",
   "metadata": {},
   "source": [
    "#### 10. [0.5 баллов] Какие виды Burrito существуют? Какой из них чаще всего покупают? Какой из них самый дорогой? "
   ]
  },
  {
   "cell_type": "code",
   "execution_count": 154,
   "metadata": {},
   "outputs": [
    {
     "name": "stdout",
     "output_type": "stream",
     "text": [
      "     order_id  quantity item_name  \\\n",
      "510       214         1   Burrito   \n",
      "511       214         1   Burrito   \n",
      "519       217         1   Burrito   \n",
      "675       279         1   Burrito   \n",
      "759       313         1   Burrito   \n",
      "760       313         1   Burrito   \n",
      "\n",
      "                                    choice_description  new_column  \n",
      "510  [Adobo-Marinated and Grilled Chicken, Pinto Be...         7.4  \n",
      "511  [Braised Barbacoa, Vegetarian Black Beans, [So...         7.4  \n",
      "519  [Braised Barbacoa, Pinto Beans, [Sour Cream, S...         7.4  \n",
      "675  [Adobo-Marinated and Grilled Chicken, [Sour Cr...         7.4  \n",
      "759  [White Rice, Adobo-Marinated and Grilled Steak...         7.4  \n",
      "760  [White Rice, Adobo-Marinated and Grilled Steak...         7.4   \n",
      "\n",
      "Чаще всего покупают\n",
      " choice_description\n",
      "[Adobo-Marinated and Grilled Chicken, Pinto Beans, [Sour Cream, Salsa, Cheese, Cilantro-Lime Rice, Guacamole]]    1\n",
      "[Adobo-Marinated and Grilled Chicken, [Sour Cream, Cheese, Cilantro-Lime Rice]]                                   1\n",
      "[Braised Barbacoa, Pinto Beans, [Sour Cream, Salsa, Cheese, Cilantro-Lime Rice, Guacamole]]                       1\n",
      "[Braised Barbacoa, Vegetarian Black Beans, [Sour Cream, Salsa, Cheese, Cilantro-Lime Rice]]                       1\n",
      "[White Rice, Adobo-Marinated and Grilled Steak, Pinto Beans, [Sour Cream, Salsa, Cheese, Cilantro-Lime Rice]]     1\n",
      "[White Rice, Adobo-Marinated and Grilled Steak, [Salsa, Cheese]]                                                  1\n",
      "Name: quantity, dtype: int64\n",
      "Самый дорогой\n",
      " choice_description\n",
      "[Adobo-Marinated and Grilled Chicken, Pinto Beans, [Sour Cream, Salsa, Cheese, Cilantro-Lime Rice, Guacamole]]    7.4\n",
      "[Adobo-Marinated and Grilled Chicken, [Sour Cream, Cheese, Cilantro-Lime Rice]]                                   7.4\n",
      "[Braised Barbacoa, Pinto Beans, [Sour Cream, Salsa, Cheese, Cilantro-Lime Rice, Guacamole]]                       7.4\n",
      "[Braised Barbacoa, Vegetarian Black Beans, [Sour Cream, Salsa, Cheese, Cilantro-Lime Rice]]                       7.4\n",
      "[White Rice, Adobo-Marinated and Grilled Steak, Pinto Beans, [Sour Cream, Salsa, Cheese, Cilantro-Lime Rice]]     7.4\n",
      "[White Rice, Adobo-Marinated and Grilled Steak, [Salsa, Cheese]]                                                  7.4\n",
      "Name: new_column, dtype: float64\n"
     ]
    }
   ],
   "source": [
    "# your code\n",
    "print(df[df['item_name']=='Burrito'], '\\n')\n",
    "print('Чаще всего покупают\\n',df[df['item_name']=='Burrito'].groupby(['choice_description'])['quantity'].sum())\n",
    "print('Самый дорогой\\n',df[df['item_name']=='Burrito'].groupby(['choice_description'])['new_column'].max())"
   ]
  },
  {
   "cell_type": "markdown",
   "metadata": {
    "collapsed": true
   },
   "source": [
    "#### 11. [0.75 баллов] В каком количестве заказов есть товар, который стоит более 40% от суммы всего чека?\n",
    "\n",
    "Возможно, будет удобно посчитать отдельно средний чек, добавить его в исходные данные и сделать необходимые проверки."
   ]
  },
  {
   "cell_type": "code",
   "execution_count": 232,
   "metadata": {},
   "outputs": [
    {
     "name": "stdout",
     "output_type": "stream",
     "text": [
      "1637\n"
     ]
    }
   ],
   "source": [
    "# your code\n",
    "df.insert(loc=len(df.columns), column='cost', value=df['quantity']*df['new_column'])\n",
    "\n",
    "\n",
    "cnt=df.groupby(['order_id'])['item_name'].count()\n",
    "mean_cheque=list(df.groupby(['order_id'])['cost'].mean())\n",
    "k=0\n",
    "mean_cheque_new=[]\n",
    "for ind in cnt:\n",
    "    for v in range(ind):\n",
    "        mean_cheque_new.append(mean_cheque[k]*ind)\n",
    "    k+=1\n",
    "df.insert(loc=len(df.columns), column='mean cheque', value=mean_cheque_new)\n",
    "\n",
    "print(df[df['cost']>0.4*df['mean cheque']].groupby(['order_id'])['item_name'].count().shape[0])\n",
    "df=df.drop(['cost'], axis=1)\n",
    "df=df.drop(['mean cheque'], axis=1)"
   ]
  },
  {
   "cell_type": "markdown",
   "metadata": {},
   "source": [
    "#### 12. [0.75 баллов] Предположим, что в данных была ошибка и Diet Coke (choice_description), который стоил $1.25, должен был стоить 1.35. Скорректируйте данные в таблицы и посчитайте, на какой процент больше денег было заработано с этого товара. Не забывайте, что количество товара не всегда равно 1."
   ]
  },
  {
   "cell_type": "code",
   "execution_count": 267,
   "metadata": {},
   "outputs": [
    {
     "name": "stdout",
     "output_type": "stream",
     "text": [
      "на 7.999999999999943 %\n"
     ]
    }
   ],
   "source": [
    "# your code\n",
    "df.insert(loc=len(df.columns), column='cost', value=df['quantity']*df['new_column'])\n",
    "cost1=df[(df['choice_description']=='[Diet Coke]') & (df['new_column']==1.25)]['cost'].sum()\n",
    "cost2=df[(df['choice_description']=='[Diet Coke]') & (df['new_column']==1.25)]['cost'].map({1.25:1.35}).sum()\n",
    "print('на', cost2*100/cost1-100,'%')\n",
    "df=df.drop(['cost'], axis=1)"
   ]
  },
  {
   "cell_type": "markdown",
   "metadata": {},
   "source": [
    "#### 13. [0.75 баллов] Создайте новый DateFrame из матрицы, созданной ниже. Назовите колонки index, column1, column2 и сделайте первую колонку индексом."
   ]
  },
  {
   "cell_type": "code",
   "execution_count": 17,
   "metadata": {},
   "outputs": [
    {
     "name": "stdout",
     "output_type": "stream",
     "text": [
      "[[0.20468384 0.24585125 0.0570718 ]\n",
      " [0.65394137 0.86583948 0.06592063]\n",
      " [0.57585449 0.16359819 0.058867  ]\n",
      " [0.16852227 0.76851334 0.16642914]\n",
      " [0.74278499 0.09211707 0.90566724]\n",
      " [0.16851936 0.38279555 0.30361392]\n",
      " [0.87551098 0.37877148 0.23753536]\n",
      " [0.49113952 0.41719908 0.74439391]\n",
      " [0.29355048 0.74188447 0.66238287]\n",
      " [0.42014362 0.73836624 0.78720543]]\n",
      "   index   column1   column2   column3\n",
      "0      0  0.204684  0.245851  0.057072\n",
      "1      1  0.653941  0.865839  0.065921\n",
      "2      2  0.575854  0.163598  0.058867\n",
      "3      3  0.168522  0.768513  0.166429\n",
      "4      4  0.742785  0.092117  0.905667\n",
      "5      5  0.168519  0.382796  0.303614\n",
      "6      6  0.875511  0.378771  0.237535\n",
      "7      7  0.491140  0.417199  0.744394\n",
      "8      8  0.293550  0.741884  0.662383\n",
      "9      9  0.420144  0.738366  0.787205\n"
     ]
    }
   ],
   "source": [
    "data = np.random.rand(10, 3)\n",
    "\n",
    "# your code\n",
    "d={'index': np.arange(10), 'column1':data[:,0], 'column2':data[:,1],'column3':data[:,2]}\n",
    "dataframe=pd.DataFrame(d)\n",
    "print(data)\n",
    "print(dataframe)"
   ]
  },
  {
   "cell_type": "markdown",
   "metadata": {},
   "source": [
    "Сохраните DataFrame на диск в формате csv без индексов и названий столбцов."
   ]
  },
  {
   "cell_type": "code",
   "execution_count": 24,
   "metadata": {},
   "outputs": [],
   "source": [
    "# your code\n",
    "dataframe.iloc[:,1:].to_csv('dataframe.csv',header=False, index=False)"
   ]
  },
  {
   "cell_type": "markdown",
   "metadata": {},
   "source": [
    "## 2. Визуализации и matplotlib"
   ]
  },
  {
   "cell_type": "markdown",
   "metadata": {},
   "source": [
    "При работе с данными часто неудобно делать какие-то выводы, если смотреть на таблицу и числа в частности, поэтому важно уметь визуализировать данные. В этом разделе мы этим и займёмся.\n",
    "\n",
    "У matplotlib, конечно, же есть [документация](https://matplotlib.org/users/index.html) с большим количеством [примеров](https://matplotlib.org/examples/), но для начала достаточно знать про несколько основных типов графиков:\n",
    "- plot — обычный поточечный график, которым можно изображать кривые или отдельные точки;\n",
    "- hist — гистограмма, показывающая распределение некоторое величины;\n",
    "- scatter — график, показывающий взаимосвязь двух величин;\n",
    "- bar — столбцовый график, показывающий взаимосвязь количественной величины от категориальной.\n",
    "\n",
    "В этом задании вы попробуете построить каждый из них. Не менее важно усвоить базовые принципы визуализаций:\n",
    "- на графиках должны быть подписаны оси;\n",
    "- у визуализации должно быть название;\n",
    "- если изображено несколько графиков, то необходима поясняющая легенда;\n",
    "- все линии на графиках должны быть чётко видны (нет похожих цветов или цветов, сливающихся с фоном);\n",
    "- если отображена величина, имеющая очевидный диапазон значений (например, проценты могут быть от 0 до 100), то желательно масштабировать ось на весь диапазон значений (исключением является случай, когда вам необходимо показать малое отличие, которое незаметно в таких масштабах)."
   ]
  },
  {
   "cell_type": "code",
   "execution_count": 25,
   "metadata": {},
   "outputs": [],
   "source": [
    "%matplotlib inline  \n",
    "#нужно для отображения графиков внутри ноутбука\n",
    "import matplotlib.pyplot as plt"
   ]
  },
  {
   "cell_type": "markdown",
   "metadata": {},
   "source": [
    "На самом деле мы уже импортировали matplotlib внутри %pylab inline в начале задания.\n",
    "\n",
    "Работать мы будем с той же выборкой покупкок. Добавим новую колонку с датой покупки."
   ]
  },
  {
   "cell_type": "code",
   "execution_count": 26,
   "metadata": {},
   "outputs": [],
   "source": [
    "import datetime\n",
    "\n",
    "start = datetime.datetime(2018, 1, 1)\n",
    "end = datetime.datetime(2018, 1, 31)\n",
    "delta_seconds = int((end - start).total_seconds())\n",
    "\n",
    "dates = pd.DataFrame(index=df.order_id.unique())\n",
    "dates['date'] = [\n",
    "    (start + datetime.timedelta(seconds=random.randint(0, delta_seconds))).strftime('%Y-%m-%d')\n",
    "    for _ in range(df.order_id.nunique())]\n",
    "\n",
    "# если DataFrame с покупками из прошлого заказа называется не df, замените на ваше название ниже\n",
    "df['date'] = df.order_id.map(dates['date'])"
   ]
  },
  {
   "cell_type": "markdown",
   "metadata": {},
   "source": [
    "#### 1. [1 балл] Постройте гистограмму распределения сумм покупок и гистограмму средних цен отдельных видов продуктов item_name. \n",
    "\n",
    "Изображайте на двух соседних графиках. Для этого может быть полезен subplot."
   ]
  },
  {
   "cell_type": "code",
   "execution_count": 99,
   "metadata": {},
   "outputs": [
    {
     "data": {
      "image/png": "[encoded data removed]",
      "text/plain": [
       "<Figure size 432x288 with 2 Axes>"
      ]
     },
     "metadata": {
      "needs_background": "light"
     },
     "output_type": "display_data"
    }
   ],
   "source": [
    "# your code\n",
    "ax1=plt.subplot(1,2,1)\n",
    "ax2=plt.subplot(1,2,2)\n",
    "df.insert(loc=len(df.columns), column='cost', value=df['quantity']*df['new_column'])\n",
    "summa=df.groupby(['order_id'])['cost'].sum()\n",
    "mean_price=df.groupby(['item_name'])['new_column'].mean()\n",
    "ax1.hist(summa,bins=np.arange(int(min(summa)), 250,10))\n",
    "ax2.hist(mean_price,bins=np.arange(int(min(mean_price)), round(max(mean_price)),1))\n",
    "ax1.set_title('Распределение сумм покупок',size=9)\n",
    "ax2.set_title('Средняя цена отдельных видов продуктов',size=9)\n",
    "df=df.drop(['cost'], axis=1)"
   ]
  },
  {
   "cell_type": "markdown",
   "metadata": {},
   "source": [
    "#### 2. [1 балл] Постройте график зависимости суммы покупок от дней."
   ]
  },
  {
   "cell_type": "code",
   "execution_count": 111,
   "metadata": {},
   "outputs": [
    {
     "data": {
      "text/plain": [
       "[<matplotlib.lines.Line2D at 0x1d5df24e970>]"
      ]
     },
     "execution_count": 111,
     "metadata": {},
     "output_type": "execute_result"
    },
    {
     "data": {
      "image/png": "[encoded data removed]",
      "text/plain": [
       "<Figure size 2520x2520 with 1 Axes>"
      ]
     },
     "metadata": {
      "needs_background": "light"
     },
     "output_type": "display_data"
    }
   ],
   "source": [
    "# your code\n",
    "df.insert(loc=len(df.columns), column='cost', value=df['quantity']*df['new_column'])\n",
    "sum_by_date=df.groupby(['date'])['cost'].sum()\n",
    "df=df.drop(['cost'], axis=1)\n",
    "plt.figure(figsize=(35,35))\n",
    "plt.plot(sum_by_date.keys(),sum_by_date)"
   ]
  },
  {
   "cell_type": "markdown",
   "metadata": {},
   "source": [
    "#### 3. [1 балл] Постройте средних сумм покупок по дням недели (bar plot)."
   ]
  },
  {
   "cell_type": "code",
   "execution_count": 148,
   "metadata": {},
   "outputs": [
    {
     "data": {
      "image/png": "[encoded data removed]",
      "text/plain": [
       "<Figure size 576x576 with 1 Axes>"
      ]
     },
     "metadata": {
      "needs_background": "light"
     },
     "output_type": "display_data"
    }
   ],
   "source": [
    "# your code\n",
    "import datetime\n",
    "import calendar\n",
    "dt=[]\n",
    "for val in df['date']:\n",
    "      dt1=val.split('-')\n",
    "      d = datetime.date(int(dt1[0]), int(dt1[1]), int(dt1[2]))\n",
    "      dt.append(calendar.day_name[d.weekday()])\n",
    "df.insert(loc=len(df.columns), column='cost', value=df['quantity']*df['new_column'])\n",
    "df.insert(loc=len(df.columns), column='weekday', value=dt)\n",
    "sum_mean=df.groupby(['weekday'])['cost'].mean()\n",
    "plt.figure(figsize=(8,8))\n",
    "plt.bar(sum_mean.keys(), sum_mean)\n",
    "df=df.drop(['cost'], axis=1)\n",
    "df=df.drop(['weekday'], axis=1)"
   ]
  },
  {
   "cell_type": "markdown",
   "metadata": {},
   "source": [
    "#### 4. [1 балл] Постройте график зависимости денег за товар от купленного количества (scatter plot)."
   ]
  },
  {
   "cell_type": "code",
   "execution_count": 178,
   "metadata": {},
   "outputs": [
    {
     "data": {
      "text/plain": [
       "<matplotlib.collections.PathCollection at 0x1d5e088d760>"
      ]
     },
     "execution_count": 178,
     "metadata": {},
     "output_type": "execute_result"
    },
    {
     "data": {
      "image/png": "[encoded data removed]",
      "text/plain": [
       "<Figure size 1440x1440 with 1 Axes>"
      ]
     },
     "metadata": {
      "needs_background": "light"
     },
     "output_type": "display_data"
    }
   ],
   "source": [
    "# your code\n",
    "buy_cnt=df.groupby(['item_name','choice_description'])['quantity'].sum()\n",
    "money_for_item=df.groupby(['item_name','choice_description'])['new_column'].mean()\n",
    "plt.figure(figsize=(20,20))\n",
    "plt.scatter(money_for_item, buy_cnt)"
   ]
  },
  {
   "cell_type": "markdown",
   "metadata": {},
   "source": [
    "Сохраните график в формате pdf (так он останется векторизованным)."
   ]
  },
  {
   "cell_type": "code",
   "execution_count": 180,
   "metadata": {},
   "outputs": [],
   "source": [
    "# your code\n",
    "from matplotlib.backends.backend_pdf import PdfPages\n",
    "pdf = PdfPages(\"Graphic.pdf\")\n",
    "plt.figure(figsize=(20,20))\n",
    "plt.scatter(money_for_item, buy_cnt)\n",
    "pdf.savefig()\n",
    "plt.close()\n",
    "pdf.close()"
   ]
  },
  {
   "cell_type": "markdown",
   "metadata": {},
   "source": [
    "Кстати, существует надстройка над matplotlib под названием [seaborn](https://jakevdp.github.io/PythonDataScienceHandbook/04.14-visualization-with-seaborn.html). Иногда удобнее и красивее делать визуализации через неё. "
   ]
  }
 ],
 "metadata": {
  "kernel_info": {
   "name": "py36"
  },
  "kernelspec": {
   "display_name": "Python 3 (ipykernel)",
   "language": "python",
   "name": "python3"
  },
  "language_info": {
   "codemirror_mode": {
    "name": "ipython",
    "version": 3
   },
   "file_extension": ".py",
   "mimetype": "text/x-python",
   "name": "python",
   "nbconvert_exporter": "python",
   "pygments_lexer": "ipython3",
   "version": "3.8.6"
  },
  "nteract": {
   "version": "0.11.6"
  }
 },
 "nbformat": 4,
 "nbformat_minor": 2
}
